{
 "cells": [
  {
   "cell_type": "code",
   "execution_count": 1,
   "id": "b0d9a7ea-0ac6-4024-9180-007d84a54c85",
   "metadata": {},
   "outputs": [],
   "source": [
    "# Import required libraries\n",
    "import pandas as pd\n",
    "import matplotlib.pyplot as plt\n",
    "%matplotlib inline"
   ]
  },
  {
   "cell_type": "code",
   "execution_count": 2,
   "id": "6c38ba45-b98b-496f-aa90-d2aa97da4d3b",
   "metadata": {},
   "outputs": [],
   "source": [
    "# 1. Data Loading\n",
    "df = pd.read_csv('gender_submission.csv')\n"
   ]
  },
  {
   "cell_type": "code",
   "execution_count": 3,
   "id": "40e5487f-189d-4b4b-8ed5-5a68746d30f7",
   "metadata": {},
   "outputs": [
    {
     "name": "stdout",
     "output_type": "stream",
     "text": [
      "First 5 rows:\n",
      "   PassengerId  Survived\n",
      "0          892         0\n",
      "1          893         1\n",
      "2          894         0\n",
      "3          895         0\n",
      "4          896         1\n",
      "\n",
      "Dataset info:\n",
      "<class 'pandas.core.frame.DataFrame'>\n",
      "RangeIndex: 418 entries, 0 to 417\n",
      "Data columns (total 2 columns):\n",
      " #   Column       Non-Null Count  Dtype\n",
      "---  ------       --------------  -----\n",
      " 0   PassengerId  418 non-null    int64\n",
      " 1   Survived     418 non-null    int64\n",
      "dtypes: int64(2)\n",
      "memory usage: 6.7 KB\n",
      "None\n",
      "\n",
      "Descriptive statistics:\n",
      "       PassengerId    Survived\n",
      "count   418.000000  418.000000\n",
      "mean   1100.500000    0.363636\n",
      "std     120.810458    0.481622\n",
      "min     892.000000    0.000000\n",
      "25%     996.250000    0.000000\n",
      "50%    1100.500000    0.000000\n",
      "75%    1204.750000    1.000000\n",
      "max    1309.000000    1.000000\n"
     ]
    }
   ],
   "source": [
    "# 2. Initial Data Inspection\n",
    "print(\"First 5 rows:\")\n",
    "print(df.head())\n",
    "print(\"\\nDataset info:\")\n",
    "print(df.info())\n",
    "print(\"\\nDescriptive statistics:\")\n",
    "print(df.describe())"
   ]
  },
  {
   "cell_type": "code",
   "execution_count": 4,
   "id": "91dfede8-fa45-4de6-873b-cec3004e31a8",
   "metadata": {},
   "outputs": [
    {
     "name": "stdout",
     "output_type": "stream",
     "text": [
      "\n",
      "Missing values check:\n",
      "PassengerId    0\n",
      "Survived       0\n",
      "dtype: int64\n"
     ]
    }
   ],
   "source": [
    "# 3. Data Cleaning\n",
    "print(\"\\nMissing values check:\")\n",
    "print(df.isnull().sum())"
   ]
  },
  {
   "cell_type": "code",
   "execution_count": 5,
   "id": "24707b04-53c3-4ca2-a7ea-de414e752314",
   "metadata": {},
   "outputs": [
    {
     "name": "stdout",
     "output_type": "stream",
     "text": [
      "\n",
      "Survival counts:\n",
      "Survived\n",
      "0    266\n",
      "1    152\n",
      "Name: count, dtype: int64\n",
      "\n",
      "Survival percentage:\n",
      "Survived\n",
      "0    63.636364\n",
      "1    36.363636\n",
      "Name: proportion, dtype: float64\n"
     ]
    }
   ],
   "source": [
    "# 4. Basic EDA\n",
    "# Survival distribution analysis\n",
    "survival_counts = df['Survived'].value_counts()\n",
    "survival_percentage = df['Survived'].value_counts(normalize=True) * 100\n",
    "\n",
    "print(\"\\nSurvival counts:\")\n",
    "print(survival_counts)\n",
    "print(\"\\nSurvival percentage:\")\n",
    "print(survival_percentage)\n"
   ]
  },
  {
   "cell_type": "code",
   "execution_count": 6,
   "id": "213ed931-dc30-4a4f-a516-feb9938dd1d5",
   "metadata": {},
   "outputs": [
    {
     "data": {
      "image/png": "[encoded data removed]",
      "text/plain": [
       "<Figure size 800x500 with 1 Axes>"
      ]
     },
     "metadata": {},
     "output_type": "display_data"
    }
   ],
   "source": [
    "# Visualization\n",
    "plt.figure(figsize=(8,5))\n",
    "survival_counts.plot(kind='bar', color=['#ff9999','#66b3ff'])\n",
    "plt.title('Survival Distribution (0 = Died, 1 = Survived)', pad=20)\n",
    "plt.xlabel('Survival Status')\n",
    "plt.ylabel('Passenger Count')\n",
    "plt.xticks(rotation=0)\n",
    "plt.show()"
   ]
  },
  {
   "cell_type": "code",
   "execution_count": 7,
   "id": "aad6dfee-5f1d-4876-b2e2-b3979bfddd2a",
   "metadata": {},
   "outputs": [
    {
     "name": "stdout",
     "output_type": "stream",
     "text": [
      "\n",
      "Survival rate: 36.36%\n"
     ]
    }
   ],
   "source": [
    "# 5. Advanced Analysis\n",
    "# Since the dataset only contains PassengerID and Survived,\n",
    "# deeper analysis requires additional features\n",
    "print(\"\\nSurvival rate: {:.2f}%\".format(df['Survived'].mean()*100))"
   ]
  },
  {
   "cell_type": "code",
   "execution_count": null,
   "id": "20945ecb-39cf-413c-9cbb-ee1d37f16d81",
   "metadata": {},
   "outputs": [],
   "source": []
  }
 ],
 "metadata": {
  "kernelspec": {
   "display_name": "Python 3 (ipykernel)",
   "language": "python",
   "name": "python3"
  },
  "language_info": {
   "codemirror_mode": {
    "name": "ipython",
    "version": 3
   },
   "file_extension": ".py",
   "mimetype": "text/x-python",
   "name": "python",
   "nbconvert_exporter": "python",
   "pygments_lexer": "ipython3",
   "version": "3.12.4"
  }
 },
 "nbformat": 4,
 "nbformat_minor": 5
}
